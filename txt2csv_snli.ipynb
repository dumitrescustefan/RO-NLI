{
 "cells": [
  {
   "cell_type": "code",
   "execution_count": 1,
   "metadata": {},
   "outputs": [],
   "source": [
    "import pandas as pd\n",
    "from tqdm import tqdm\n",
    "import time\n",
    "import json\n",
    "\n",
    "NUM_SELECTED_SENTECES = 5000\n",
    "train_dataset = \"./snli_1.0/snli_1.0/snli_1.0_train.txt\"\n",
    "test_dataset = \"./snli_1.0/snli_1.0/snli_1.0_test.txt\"\n",
    "test_dataset_converted = \"./snli_1.0/snli_1.0/snli_1.0_test_doccano.csv\"\n",
    "\n",
    "df = pd.read_csv(test_dataset, sep=\"\\t\")"
   ]
  },
  {
   "cell_type": "code",
   "execution_count": 2,
   "metadata": {},
   "outputs": [],
   "source": [
    "out_file = open(test_dataset_converted, \"w\")"
   ]
  },
  {
   "cell_type": "code",
   "execution_count": 3,
   "metadata": {},
   "outputs": [
    {
     "name": "stderr",
     "output_type": "stream",
     "text": [
      "100%|██████████| 5000/5000 [00:00<00:00, 409472.04it/s]\n"
     ]
    }
   ],
   "source": [
    "ind = 0\n",
    "out_file.write(\"text,label,meta\")\n",
    "out_file.write(\"\\n\")\n",
    "for premise, hypothesis in tqdm(zip(df[\"sentence1\"].values[:NUM_SELECTED_SENTECES], \n",
    "                                    df[\"sentence2\"].values[:NUM_SELECTED_SENTECES]), \n",
    "                                    total=NUM_SELECTED_SENTECES):\n",
    "    out_file.write(premise.replace(\",\",\"\") + \",,\" + str(ind)+\".1\")\n",
    "    out_file.write(\"\\n\")\n",
    "    out_file.write(hypothesis.replace(\",\",\"\") + \",,\" + str(ind)+\".2\")\n",
    "    out_file.write(\"\\n\")\n",
    "    ind += 1"
   ]
  }
 ],
 "metadata": {
  "kernelspec": {
   "display_name": "Python 3",
   "language": "python",
   "name": "python3"
  },
  "language_info": {
   "codemirror_mode": {
    "name": "ipython",
    "version": 3
   },
   "file_extension": ".py",
   "mimetype": "text/x-python",
   "name": "python",
   "nbconvert_exporter": "python",
   "pygments_lexer": "ipython3",
   "version": "3.6.9"
  }
 },
 "nbformat": 4,
 "nbformat_minor": 2
}
